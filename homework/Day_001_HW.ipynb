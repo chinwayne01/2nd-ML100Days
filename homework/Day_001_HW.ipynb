{
 "cells": [
  {
   "cell_type": "markdown",
   "metadata": {},
   "source": [
    "## 練習時間\n",
    "#### 請寫一個函式用來計算 Mean Square Error\n",
    "$ MSE = \\frac{1}{n}\\sum_{i=1}^{n}{(Y_i - \\hat{Y}_i)^2} $\n",
    "\n",
    "### Hint: [如何取平方](https://googoodesign.gitbooks.io/-ezpython/unit-1.html)"
   ]
  },
  {
   "cell_type": "code",
   "execution_count": 28,
   "metadata": {},
   "outputs": [
    {
     "data": {
      "text/plain": [
       "'\\n作業1:\\n\\nhttps://www.kaggle.com/lava18/google-play-store-apps\\n\\nGoogle Play Store Apps\\nWeb scraped data of 10k Play Store apps for analysing the Android market\\n\\n1. 你選的這組資料為何重要?\\nAns:\\n    由於google play用戶相當龐大，且在Kaggle提供Apple App Store數據，\\n    但是在網絡上的任何地方都沒有很多可用於Google Play商店應用的對應數據集。\\n\\n\\n\\n2. 資料從何而來 (tips: 譬如提供者是誰、以什麼方式蒐集)\\nAns:\\n    作者：Lavanya Gupta\\n    以google play store 長年統計下資料所得到結果\\n    \\n    \\n    \\n3. 蒐集而來的資料型態為何\\nAns:\\n    其資料型態主要以excel(.csv)為主，並多方探討google play store 等的各方面應用與分析，其中包含catergory，rating，size等值。\\n    \\n    \\n\\n4. 這組資料想解決的問題如何評估\\nAns:可以推動應用製作業務。並為開發人員提供可操作的見解，以便開發Android市場\\n    \\n'"
      ]
     },
     "execution_count": 28,
     "metadata": {},
     "output_type": "execute_result"
    }
   ],
   "source": [
    "'''\n",
    "作業1:\n",
    "\n",
    "https://www.kaggle.com/lava18/google-play-store-apps\n",
    "\n",
    "Google Play Store Apps\n",
    "Web scraped data of 10k Play Store apps for analysing the Android market\n",
    "\n",
    "1. 你選的這組資料為何重要?\n",
    "Ans:\n",
    "    由於google play用戶相當龐大，且在Kaggle提供Apple App Store數據，\n",
    "    但是在網絡上的任何地方都沒有很多可用於Google Play商店應用的對應數據集。\n",
    "\n",
    "\n",
    "\n",
    "2. 資料從何而來 (tips: 譬如提供者是誰、以什麼方式蒐集)\n",
    "Ans:\n",
    "    作者：Lavanya Gupta\n",
    "    以google play store 長年統計下資料所得到結果\n",
    "    \n",
    "    \n",
    "    \n",
    "3. 蒐集而來的資料型態為何\n",
    "Ans:\n",
    "    其資料型態主要以excel(.csv)為主，並多方探討google play store 等的各方面應用與分析，其中包含catergory，rating，size等值。\n",
    "    \n",
    "    \n",
    "\n",
    "4. 這組資料想解決的問題如何評估\n",
    "Ans:可以推動應用製作業務。並為開發人員提供可操作的見解，以便開發Android市場\n",
    "    \n",
    "'''"
   ]
  },
  {
   "cell_type": "code",
   "execution_count": 29,
   "metadata": {},
   "outputs": [
    {
     "data": {
      "text/plain": [
       "'\\n作業2:\\n\\n想像你經營一個自由載客車隊，你希望能透過數據分析以提升業績，請你思考並描述你如何規劃整體的分析/解決方案：\\n\\n1. 核心問題為何 (tips：如何定義 「提升業績 & 你的假設」)\\nAns:\\n    提升業績，人力分配為最主要，並想辦法以最小的人力資源投入、最小的車隊成本，以達到單位面積下，在運客人的最大收益。\\n    其中包含人力、交通、油價等成本的計算，以及時間、地區性等罌粟考量，最後為顧客心裡的探討。\\n    \\n    \\n    \\n2. 資料從何而來 (tips：哪些資料可能會對你想問的問題產生影響 & 資料如何蒐集)\\nAns\\n    主要已網路或自主行動取得資料，如UBER或台灣大車隊等資料統計，加上自己親自下去開車，已拉近顧客的心理，方方便站在顧客角度思考問題。\\n    \\n    \\n    \\n3. 蒐集而來的資料型態為何?\\nAns:\\n    以統計型態為主要資料型態，並由多放數據資料庫(ex:Microsoft SQL 、MySQL 等)作量化分析得到最大效益\\n    \\n    \\n4. 你要回答的問題，其如何評估 (tips：你的假設如何驗證)?\\nAns:\\n    將會透過與其他業者的收益，以及自己每天、每月做交叉分析，來驗證效果是否良好，又或者是需要做改善。\\n    \\n\\n\\n'"
      ]
     },
     "execution_count": 29,
     "metadata": {},
     "output_type": "execute_result"
    }
   ],
   "source": [
    "'''\n",
    "作業2:\n",
    "\n",
    "想像你經營一個自由載客車隊，你希望能透過數據分析以提升業績，請你思考並描述你如何規劃整體的分析/解決方案：\n",
    "\n",
    "1. 核心問題為何 (tips：如何定義 「提升業績 & 你的假設」)\n",
    "Ans:\n",
    "    提升業績，人力分配為最主要，並想辦法以最小的人力資源投入、最小的車隊成本，以達到單位面積下，在運客人的最大收益。\n",
    "    其中包含人力、交通、油價等成本的計算，以及時間、地區性等罌粟考量，最後為顧客心裡的探討。\n",
    "    \n",
    "    \n",
    "    \n",
    "2. 資料從何而來 (tips：哪些資料可能會對你想問的問題產生影響 & 資料如何蒐集)\n",
    "Ans\n",
    "    主要已網路或自主行動取得資料，如UBER或台灣大車隊等資料統計，加上自己親自下去開車，已拉近顧客的心理，方方便站在顧客角度思考問題。\n",
    "    \n",
    "    \n",
    "    \n",
    "3. 蒐集而來的資料型態為何?\n",
    "Ans:\n",
    "    以統計型態為主要資料型態，並由多放數據資料庫(ex:Microsoft SQL 、MySQL 等)作量化分析得到最大效益\n",
    "    \n",
    "    \n",
    "4. 你要回答的問題，其如何評估 (tips：你的假設如何驗證)?\n",
    "Ans:\n",
    "    將會透過與其他業者的收益，以及自己每天、每月做交叉分析，來驗證效果是否良好，又或者是需要做改善。\n",
    "    \n",
    "\n",
    "\n",
    "'''"
   ]
  },
  {
   "cell_type": "code",
   "execution_count": 30,
   "metadata": {},
   "outputs": [],
   "source": [
    "#作業三：\n",
    "import numpy as np\n",
    "import matplotlib.pyplot as plt"
   ]
  },
  {
   "cell_type": "code",
   "execution_count": 31,
   "metadata": {},
   "outputs": [],
   "source": [
    "def mean_squared_error(y,yp):\n",
    "    \"\"\"\n",
    "    請完成這個 Function 後往下執行\n",
    "    \"\"\"\n",
    "    mse = MSE = sum(pow((y - yp),2)) / len(y)\n",
    "    return mse\n",
    "\n",
    "def mean_absolute_error(y, yp):\n",
    "    \"\"\"\n",
    "    計算 MAE\n",
    "    Args:\n",
    "        - y: 實際值\n",
    "        - yp: 預測值\n",
    "    Return:\n",
    "        - mae: MAE\n",
    "    \"\"\"\n",
    "    mae = MAE = sum(abs(y - yp)) / len(y)\n",
    "    return mae\n"
   ]
  },
  {
   "cell_type": "code",
   "execution_count": 32,
   "metadata": {},
   "outputs": [
    {
     "data": {
      "image/png": "[encoded data removed]",
      "text/plain": [
       "<Figure size 432x288 with 1 Axes>"
      ]
     },
     "metadata": {
      "needs_background": "light"
     },
     "output_type": "display_data"
    }
   ],
   "source": [
    "w = 3\n",
    "b = 0.5\n",
    "\n",
    "x_lin = np.linspace(0, 100, 101)\n",
    "\n",
    "y = (x_lin + np.random.randn(101) * 5) * w + b\n",
    "\n",
    "plt.plot(x_lin, y, 'b.', label = 'data points')\n",
    "plt.title(\"Assume we have data points\")\n",
    "plt.legend(loc = 2)\n",
    "plt.show()"
   ]
  },
  {
   "cell_type": "code",
   "execution_count": 33,
   "metadata": {},
   "outputs": [
    {
     "data": {
      "image/png": "[encoded data removed]",
      "text/plain": [
       "<Figure size 432x288 with 1 Axes>"
      ]
     },
     "metadata": {
      "needs_background": "light"
     },
     "output_type": "display_data"
    }
   ],
   "source": [
    "y_hat = x_lin * w + b\n",
    "plt.plot(x_lin, y, 'b.', label = 'data')\n",
    "plt.plot(x_lin, y_hat, 'r-', label = 'prediction')\n",
    "plt.title(\"Assume we have data points (And the prediction)\")\n",
    "plt.legend(loc = 2)\n",
    "plt.show()"
   ]
  },
  {
   "cell_type": "code",
   "execution_count": 35,
   "metadata": {},
   "outputs": [
    {
     "name": "stdout",
     "output_type": "stream",
     "text": [
      "The Mean squared error is 301.487\n",
      "The Mean absolute error is 13.776\n"
     ]
    }
   ],
   "source": [
    "# 執行 Function, 確認有沒有正常執行\n",
    "MSE = mean_squared_error(y, y_hat)\n",
    "MAE = mean_absolute_error(y, y_hat)\n",
    "print(\"The Mean squared error is %.3f\" % (MSE))\n",
    "print(\"The Mean absolute error is %.3f\" % (MAE))"
   ]
  }
 ],
 "metadata": {
  "anaconda-cloud": {},
  "kernelspec": {
   "display_name": "Python 3",
   "language": "python",
   "name": "python3"
  },
  "language_info": {
   "codemirror_mode": {
    "name": "ipython",
    "version": 3
   },
   "file_extension": ".py",
   "mimetype": "text/x-python",
   "name": "python",
   "nbconvert_exporter": "python",
   "pygments_lexer": "ipython3",
   "version": "3.6.8"
  }
 },
 "nbformat": 4,
 "nbformat_minor": 1
}
